{
 "cells": [
  {
   "cell_type": "code",
   "execution_count": 7,
   "metadata": {},
   "outputs": [
    {
     "name": "stdout",
     "output_type": "stream",
     "text": [
      "Requirement already satisfied: pandas in c:\\users\\16473\\anaconda3\\lib\\site-packages (2.1.1)\n",
      "Requirement already satisfied: numpy>=1.22.4 in c:\\users\\16473\\anaconda3\\lib\\site-packages (from pandas) (1.23.5)\n",
      "Requirement already satisfied: python-dateutil>=2.8.2 in c:\\users\\16473\\anaconda3\\lib\\site-packages (from pandas) (2.8.2)\n",
      "Requirement already satisfied: pytz>=2020.1 in c:\\users\\16473\\anaconda3\\lib\\site-packages (from pandas) (2022.7)\n",
      "Requirement already satisfied: tzdata>=2022.1 in c:\\users\\16473\\anaconda3\\lib\\site-packages (from pandas) (2023.3)\n",
      "Requirement already satisfied: six>=1.5 in c:\\users\\16473\\anaconda3\\lib\\site-packages (from python-dateutil>=2.8.2->pandas) (1.16.0)\n",
      "Requirement already satisfied: numpy in c:\\users\\16473\\anaconda3\\lib\\site-packages (1.23.5)\n"
     ]
    },
    {
     "ename": "AttributeError",
     "evalue": "module 'numpy' has no attribute '__version__'",
     "output_type": "error",
     "traceback": [
      "\u001b[1;31m---------------------------------------------------------------------------\u001b[0m",
      "\u001b[1;31mAttributeError\u001b[0m                            Traceback (most recent call last)",
      "\u001b[1;32mc:\\Users\\16473\\projects\\HTV8\\person_data.ipynb Cell 1\u001b[0m line \u001b[0;36m4\n\u001b[0;32m      <a href='vscode-notebook-cell:/c%3A/Users/16473/projects/HTV8/person_data.ipynb#W0sZmlsZQ%3D%3D?line=1'>2</a>\u001b[0m get_ipython()\u001b[39m.\u001b[39msystem(\u001b[39m'\u001b[39m\u001b[39mpip install numpy\u001b[39m\u001b[39m'\u001b[39m)\n\u001b[0;32m      <a href='vscode-notebook-cell:/c%3A/Users/16473/projects/HTV8/person_data.ipynb#W0sZmlsZQ%3D%3D?line=2'>3</a>\u001b[0m \u001b[39mimport\u001b[39;00m \u001b[39mrandom\u001b[39;00m \n\u001b[1;32m----> <a href='vscode-notebook-cell:/c%3A/Users/16473/projects/HTV8/person_data.ipynb#W0sZmlsZQ%3D%3D?line=3'>4</a>\u001b[0m \u001b[39mimport\u001b[39;00m \u001b[39mpandas\u001b[39;00m \u001b[39mas\u001b[39;00m \u001b[39mpd\u001b[39;00m\n\u001b[0;32m      <a href='vscode-notebook-cell:/c%3A/Users/16473/projects/HTV8/person_data.ipynb#W0sZmlsZQ%3D%3D?line=5'>6</a>\u001b[0m \u001b[39m# Create empty lists to store the data\u001b[39;00m\n\u001b[0;32m      <a href='vscode-notebook-cell:/c%3A/Users/16473/projects/HTV8/person_data.ipynb#W0sZmlsZQ%3D%3D?line=6'>7</a>\u001b[0m people_data \u001b[39m=\u001b[39m []\n",
      "File \u001b[1;32mc:\\Users\\16473\\anaconda3\\lib\\site-packages\\pandas\\__init__.py:50\u001b[0m\n\u001b[0;32m     46\u001b[0m \u001b[39mdel\u001b[39;00m _hard_dependencies, _dependency, _missing_dependencies\n\u001b[0;32m     48\u001b[0m \u001b[39mtry\u001b[39;00m:\n\u001b[0;32m     49\u001b[0m     \u001b[39m# numpy compat\u001b[39;00m\n\u001b[1;32m---> 50\u001b[0m     \u001b[39mfrom\u001b[39;00m \u001b[39mpandas\u001b[39;00m\u001b[39m.\u001b[39;00m\u001b[39mcompat\u001b[39;00m \u001b[39mimport\u001b[39;00m (\n\u001b[0;32m     51\u001b[0m         is_numpy_dev \u001b[39mas\u001b[39;00m _is_numpy_dev,  \u001b[39m# pyright: ignore[reportUnusedImport] # noqa: F401,E501\u001b[39;00m\n\u001b[0;32m     52\u001b[0m     )\n\u001b[0;32m     53\u001b[0m \u001b[39mexcept\u001b[39;00m \u001b[39mImportError\u001b[39;00m \u001b[39mas\u001b[39;00m _err:  \u001b[39m# pragma: no cover\u001b[39;00m\n\u001b[0;32m     54\u001b[0m     _module \u001b[39m=\u001b[39m _err\u001b[39m.\u001b[39mname\n",
      "File \u001b[1;32mc:\\Users\\16473\\anaconda3\\lib\\site-packages\\pandas\\compat\\__init__.py:26\u001b[0m\n\u001b[0;32m     17\u001b[0m \u001b[39mfrom\u001b[39;00m \u001b[39mpandas\u001b[39;00m\u001b[39m.\u001b[39;00m\u001b[39mcompat\u001b[39;00m\u001b[39m.\u001b[39;00m\u001b[39m_constants\u001b[39;00m \u001b[39mimport\u001b[39;00m (\n\u001b[0;32m     18\u001b[0m     IS64,\n\u001b[0;32m     19\u001b[0m     ISMUSL,\n\u001b[1;32m   (...)\u001b[0m\n\u001b[0;32m     23\u001b[0m     PYPY,\n\u001b[0;32m     24\u001b[0m )\n\u001b[0;32m     25\u001b[0m \u001b[39mimport\u001b[39;00m \u001b[39mpandas\u001b[39;00m\u001b[39m.\u001b[39;00m\u001b[39mcompat\u001b[39;00m\u001b[39m.\u001b[39;00m\u001b[39mcompressors\u001b[39;00m\n\u001b[1;32m---> 26\u001b[0m \u001b[39mfrom\u001b[39;00m \u001b[39mpandas\u001b[39;00m\u001b[39m.\u001b[39;00m\u001b[39mcompat\u001b[39;00m\u001b[39m.\u001b[39;00m\u001b[39mnumpy\u001b[39;00m \u001b[39mimport\u001b[39;00m is_numpy_dev\n\u001b[0;32m     27\u001b[0m \u001b[39mfrom\u001b[39;00m \u001b[39mpandas\u001b[39;00m\u001b[39m.\u001b[39;00m\u001b[39mcompat\u001b[39;00m\u001b[39m.\u001b[39;00m\u001b[39mpyarrow\u001b[39;00m \u001b[39mimport\u001b[39;00m (\n\u001b[0;32m     28\u001b[0m     pa_version_under7p0,\n\u001b[0;32m     29\u001b[0m     pa_version_under8p0,\n\u001b[1;32m   (...)\u001b[0m\n\u001b[0;32m     33\u001b[0m     pa_version_under14p0,\n\u001b[0;32m     34\u001b[0m )\n\u001b[0;32m     36\u001b[0m \u001b[39mif\u001b[39;00m TYPE_CHECKING:\n",
      "File \u001b[1;32mc:\\Users\\16473\\anaconda3\\lib\\site-packages\\pandas\\compat\\numpy\\__init__.py:7\u001b[0m\n\u001b[0;32m      4\u001b[0m \u001b[39mfrom\u001b[39;00m \u001b[39mpandas\u001b[39;00m\u001b[39m.\u001b[39;00m\u001b[39mutil\u001b[39;00m\u001b[39m.\u001b[39;00m\u001b[39mversion\u001b[39;00m \u001b[39mimport\u001b[39;00m Version\n\u001b[0;32m      6\u001b[0m \u001b[39m# numpy versioning\u001b[39;00m\n\u001b[1;32m----> 7\u001b[0m _np_version \u001b[39m=\u001b[39m np\u001b[39m.\u001b[39;49m__version__\n\u001b[0;32m      8\u001b[0m _nlv \u001b[39m=\u001b[39m Version(_np_version)\n\u001b[0;32m      9\u001b[0m np_version_gte1p24 \u001b[39m=\u001b[39m _nlv \u001b[39m>\u001b[39m\u001b[39m=\u001b[39m Version(\u001b[39m\"\u001b[39m\u001b[39m1.24\u001b[39m\u001b[39m\"\u001b[39m)\n",
      "\u001b[1;31mAttributeError\u001b[0m: module 'numpy' has no attribute '__version__'"
     ]
    }
   ],
   "source": [
    "import torch\n",
    "import random\n",
    "from random import gauss\n",
    "import pandas as pd\n",
    "# Set a random seed for reproducibility\n",
    "random.seed(0)\n",
    "torch.manual_seed(0)\n",
    "\n",
    "# Create empty lists to store the data\n",
    "people_data = []\n",
    "\n",
    "# Generate data for 100 people\n",
    "for _ in range(100):\n",
    "    income = random.randint(30000, 200000)  # Income between $30,000 and $120,000\\\n",
    "    income_num=0\n",
    "    if income <40000:\n",
    "      income_num =1\n",
    "    elif income< 53359:\n",
    "      income_num=2\n",
    "    elif income <106717:\n",
    "      income_num=3 \n",
    "    elif income <165430:\n",
    "      income_num = 4\n",
    "    elif income <235675:\n",
    "      income_num =5 \n",
    "    else:\n",
    "      income_num =6\n",
    "\n",
    "    credit_score = random.randint(300, 900)  # Credit score between 400 and 850\n",
    "    asset_value = random.uniform(10000, 500000)  # Asset value between $10,000 and $500,000\n",
    "    debt_value = random.uniform(0, asset_value)  # Debt value is less than or equal to asset value\n",
    "    risk_tolerance = random.choice([1,1.5,2,2.5,3])  # Risk tolerance level (1, 2, 3)\n",
    "\n",
    "    # Create a dictionary representing a person's data\n",
    "    person = {\n",
    "        \"Income Score\": income_num,\n",
    "        \"Credit Score\": credit_score,\n",
    "        \"Asset Value\": asset_value,\n",
    "        \"Debt Value\": debt_value,\n",
    "        \"Risk Tolerance\": risk_tolerance\n",
    "    }\n",
    "\n",
    "    people_data.append(person)\n",
    "\n",
    "\n",
    "# Apply transformations to income, asset value, and debt value\n",
    "\n",
    "# making pandas file\n",
    "people_df = pd.DataFrame(people_data)\n",
    "people_df['ID'] = range(1, len(people_df) + 1)\n",
    "people_df.head(100)\n",
    "pd.set_option('display.max_rows', None)\n",
    "# Display the first few records\n",
    "# for i in range(100):\n",
    "#     print(f\"Person {i + 1}: {people_data[i]}\")\n",
    "\n",
    "# You can access the data for each person using people_data[index]\n",
    "# For example, to access the risk tolerance score of the first person:\n",
    "# risk_tolerance_of_first_person = people_data[0][\"Risk Tolerance\"]\n",
    "csv_file_path = './sample_data.csv'  # Replace with your desired file path\n",
    "# Use the to_csv method to save the DataFrame as a CSV file\n",
    "people_df.to_csv(csv_file_path, index=False)  # Set index=False to exclude the index column\n",
    "people_df\n"
   ]
  }
 ],
 "metadata": {
  "kernelspec": {
   "display_name": "Python 3",
   "language": "python",
   "name": "python3"
  },
  "language_info": {
   "codemirror_mode": {
    "name": "ipython",
    "version": 3
   },
   "file_extension": ".py",
   "mimetype": "text/x-python",
   "name": "python",
   "nbconvert_exporter": "python",
   "pygments_lexer": "ipython3",
   "version": "3.9.13"
  }
 },
 "nbformat": 4,
 "nbformat_minor": 2
}
