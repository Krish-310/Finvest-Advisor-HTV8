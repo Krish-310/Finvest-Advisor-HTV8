{
 "cells": [
  {
   "cell_type": "code",
   "execution_count": null,
   "metadata": {},
   "outputs": [],
   "source": [
    "import random\n",
    "import pandas as pd\n",
    "\n",
    "data_mapped = []\n",
    "\n",
    "for i in range(100):\n",
    "    x = random.randint(1, 50)\n",
    "    y = random.randint(1, 50)\n",
    "    z = random.randint(1, 50)\n",
    "\n",
    "    # Create a dictionary for the new row\n",
    "    new_row = {\n",
    "        'Person_ID': i,\n",
    "        'Priority 1': x,\n",
    "        'Priority 2': y,\n",
    "        'Priority 3': z\n",
    "    }\n",
    "\n",
    "    # Append the new row to the list\n",
    "    data_mapped.append(new_row)\n",
    "\n",
    "# Create a DataFrame from the list of dictionaries\n",
    "data_mapped_df = pd.DataFrame(data_mapped)\n",
    "csv_file_path = '/content/data_mapped.csv'  # Replace with your desired file path\n",
    "# Use the to_csv method to save the DataFrame as a CSV file\n",
    "data_mapped_df.to_csv(csv_file_path, index=False)  # Set index=False to exclude the index column\n",
    "data_mapped_df"
   ]
  }
 ],
 "metadata": {
  "language_info": {
   "name": "python"
  }
 },
 "nbformat": 4,
 "nbformat_minor": 2
}
